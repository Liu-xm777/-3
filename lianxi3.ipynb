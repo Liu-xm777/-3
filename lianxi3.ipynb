{
 "cells": [
  {
   "cell_type": "code",
   "execution_count": null,
   "id": "f5b6b1ff",
   "metadata": {},
   "outputs": [
    {
     "name": "stdout",
     "output_type": "stream",
     "text": [
      "請輸入一個正整數\n",
      "請輸入一個正整數o\n"
     ]
    }
   ],
   "source": [
    "while True:\n",
    "    a=input('請輸入一個正整數')\n",
    "    try:\n",
    "        a=int(a)\n",
    "    except ValueError:\n",
    "        print('請輸入一個正整數o')\n",
    "        continue\n",
    "    except:\n",
    "        print('jieshu')\n",
    "        sys.exit()\n",
    "        break\n",
    "    if a == int(a):\n",
    "        for i in range(1,a+1):\n",
    "            if a%i==0:\n",
    "                print(i,end=\" \")  \n",
    "\n",
    "    break"
   ]
  },
  {
   "cell_type": "code",
   "execution_count": null,
   "id": "cf790418",
   "metadata": {},
   "outputs": [],
   "source": []
  }
 ],
 "metadata": {
  "kernelspec": {
   "display_name": "Python 3 (ipykernel)",
   "language": "python",
   "name": "python3"
  },
  "language_info": {
   "codemirror_mode": {
    "name": "ipython",
    "version": 3
   },
   "file_extension": ".py",
   "mimetype": "text/x-python",
   "name": "python",
   "nbconvert_exporter": "python",
   "pygments_lexer": "ipython3",
   "version": "3.11.4"
  }
 },
 "nbformat": 4,
 "nbformat_minor": 5
}
